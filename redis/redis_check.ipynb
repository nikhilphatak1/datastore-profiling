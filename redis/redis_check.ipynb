{
 "cells": [
  {
   "cell_type": "code",
   "execution_count": null,
   "metadata": {},
   "outputs": [
    {
     "ename": "Error",
     "evalue": "Jupyter cannot be started. Error attempting to locate jupyter: Data Science libraries jupyter and notebook are not installed in interpreter Python 3.7.4 64-bit ('venv': venv).",
     "output_type": "error",
     "traceback": [
      "Error: Jupyter cannot be started. Error attempting to locate jupyter: Data Science libraries jupyter and notebook are not installed in interpreter Python 3.7.4 64-bit ('venv': venv).",
      "at A.startServer (/Users/nikhil.phatak/.vscode/extensions/ms-python.python-2020.2.64397/out/client/extension.js:1:786120)",
      "at async A.ensureServerAndNotebookImpl (/Users/nikhil.phatak/.vscode/extensions/ms-python.python-2020.2.64397/out/client/extension.js:1:785575)",
      "at async A.ensureServerAndNotebook (/Users/nikhil.phatak/.vscode/extensions/ms-python.python-2020.2.64397/out/client/extension.js:1:785376)",
      "at async A.submitCode (/Users/nikhil.phatak/.vscode/extensions/ms-python.python-2020.2.64397/out/client/extension.js:1:782328)",
      "at async A.reexecuteCell (/Users/nikhil.phatak/.vscode/extensions/ms-python.python-2020.2.64397/out/client/extension.js:75:879318)"
     ]
    }
   ],
   "source": [
    "import redis\n",
    "\n",
    "if __name__ == \"__main__\":\n",
    "    r = redis.Redis(host=\"192.168.99.100\",port=6379)\n",
    "    \n",
    "    r.set(\"boo\",\"mark\")\n",
    "    print(r.get(\"boo\"))\n",
    "    print(\"Finish Line\")"
   ]
  },
  {
   "cell_type": "code",
   "execution_count": 2,
   "metadata": {},
   "outputs": [],
   "source": [
    "r = redis.Redis(host=\"192.168.99.100\",port=6379)"
   ]
  },
  {
   "cell_type": "code",
   "execution_count": 9,
   "metadata": {},
   "outputs": [
    {
     "data": {
      "text/plain": [
       "[True]"
      ]
     },
     "execution_count": 9,
     "metadata": {},
     "output_type": "execute_result"
    }
   ],
   "source": [
    "pipeline = r.pipeline(transaction=True)\n",
    "pipeline.set(\"goo\",\"boo\")\n",
    "pipeline.execute()"
   ]
  },
  {
   "cell_type": "code",
   "execution_count": null,
   "metadata": {},
   "outputs": [],
   "source": []
  }
 ],
 "metadata": {
  "kernelspec": {
   "display_name": "Python 3",
   "language": "python",
   "name": "python3"
  },
  "language_info": {
   "codemirror_mode": {
    "name": "ipython",
    "version": 3
   },
   "file_extension": ".py",
   "mimetype": "text/x-python",
   "name": "python",
   "nbconvert_exporter": "python",
   "pygments_lexer": "ipython3",
   "version": "3.7.4"
  }
 },
 "nbformat": 4,
 "nbformat_minor": 2
}